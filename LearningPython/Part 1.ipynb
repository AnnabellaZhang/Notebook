{
 "cells": [
  {
   "cell_type": "markdown",
   "metadata": {},
   "source": [
    "# 1. 基本语法元素"
   ]
  },
  {
   "cell_type": "code",
   "execution_count": 6,
   "metadata": {},
   "outputs": [
    {
     "name": "stdout",
     "output_type": "stream",
     "text": [
      "显示合并\n",
      "隐式合并\n"
     ]
    }
   ],
   "source": [
    "#用\\实现显示合并\n",
    "print\\\n",
    "(\"显示合并\")\n",
    "\n",
    "#括号中存在隐式合并（?如何隐式）\n",
    "print(\"隐式合并\")"
   ]
  },
  {
   "cell_type": "code",
   "execution_count": 11,
   "metadata": {},
   "outputs": [
    {
     "name": "stdout",
     "output_type": "stream",
     "text": [
      "4358305712\n",
      "<class 'float'>\n"
     ]
    }
   ],
   "source": [
    "#注释编码规范\n",
    "# -*- coding: utf-8 -*-\n",
    "\n",
    "## 特定标识符\n",
    "#- 标识符 _* ：只能模块内使用，不能用from方法导入\n",
    "#- 标识符 _ ：在Python交互模式下表示上一个表达式的结果，在非交互模式下无特殊意义，且未定义\n",
    "#- 标识符 __*__ ：系统定义的名称\n",
    "#- 标识符 __* ：类私有的名称\n",
    "\n",
    "#使用文档字符串\n",
    "\n",
    "#函数名全小写，单词间下划线\n",
    "#类名首字母大写，单词间不加下划线\n",
    "\n",
    "#对象的基本特征：id，type，value\n",
    "print(id(1.))\n",
    "print(type(1.))"
   ]
  },
  {
   "cell_type": "code",
   "execution_count": 18,
   "metadata": {},
   "outputs": [
    {
     "name": "stdout",
     "output_type": "stream",
     "text": [
      "<class 'tuple'>\n"
     ]
    },
    {
     "ename": "TypeError",
     "evalue": "'tuple' object does not support item assignment",
     "output_type": "error",
     "traceback": [
      "\u001b[0;31m---------------------------------------------------------------------------\u001b[0m",
      "\u001b[0;31mTypeError\u001b[0m                                 Traceback (most recent call last)",
      "\u001b[0;32m<ipython-input-18-4521b670cd3f>\u001b[0m in \u001b[0;36m<module>\u001b[0;34m()\u001b[0m\n\u001b[1;32m      3\u001b[0m \u001b[0ma\u001b[0m \u001b[0;34m=\u001b[0m \u001b[0;34m(\u001b[0m\u001b[0;36m1\u001b[0m\u001b[0;34m,\u001b[0m\u001b[0;34m\"Hello\"\u001b[0m\u001b[0;34m)\u001b[0m\u001b[0;34m\u001b[0m\u001b[0m\n\u001b[1;32m      4\u001b[0m \u001b[0mprint\u001b[0m\u001b[0;34m(\u001b[0m\u001b[0mtype\u001b[0m\u001b[0;34m(\u001b[0m\u001b[0ma\u001b[0m\u001b[0;34m)\u001b[0m\u001b[0;34m)\u001b[0m\u001b[0;34m\u001b[0m\u001b[0m\n\u001b[0;32m----> 5\u001b[0;31m \u001b[0ma\u001b[0m\u001b[0;34m[\u001b[0m\u001b[0;36m0\u001b[0m\u001b[0;34m]\u001b[0m \u001b[0;34m+=\u001b[0m \u001b[0;36m1\u001b[0m\u001b[0;34m\u001b[0m\u001b[0m\n\u001b[0m\u001b[1;32m      6\u001b[0m \u001b[0mprint\u001b[0m\u001b[0;34m(\u001b[0m\u001b[0ma\u001b[0m\u001b[0;34m[\u001b[0m\u001b[0;36m0\u001b[0m\u001b[0;34m]\u001b[0m\u001b[0;34m)\u001b[0m\u001b[0;34m\u001b[0m\u001b[0m\n",
      "\u001b[0;31mTypeError\u001b[0m: 'tuple' object does not support item assignment"
     ]
    }
   ],
   "source": [
    "#无常(mutable)对象：值可变更 -> dictionary、list\n",
    "#有常(immutable)对象：值不可变更 -> numeric、string、truple\n",
    "a = (1,\"Hello\")\n",
    "print(type(a))\n",
    "a[0] += 1\n",
    "print(a[0])"
   ]
  },
  {
   "cell_type": "code",
   "execution_count": 29,
   "metadata": {},
   "outputs": [
    {
     "name": "stdout",
     "output_type": "stream",
     "text": [
      "2\n",
      "False\n",
      "True\n",
      "False\n",
      "True\n",
      "False\n",
      "True\n",
      "a:2,b:1\n"
     ]
    }
   ],
   "source": [
    "#量（variable）不是对象，是对象的引用，无型无款\n",
    "b = (1,\"Hello\")\n",
    "print(a)\n",
    "print(a is b)\n",
    "b = a\n",
    "print(a is b)\n",
    "c = \"Hello\"\n",
    "print(c is c+\"!\")\n",
    "a = 1\n",
    "b = 1\n",
    "print(a is b)\n",
    "a = []\n",
    "b = []\n",
    "print(a is b)\n",
    "\n",
    "\n",
    "#连续赋值\n",
    "a = b = 1\n",
    "print(a is b)\n",
    "\n",
    "#多变量赋值\n",
    "a = 1\n",
    "b = 2\n",
    "a, b = b, a\n",
    "print(\"a:%d,b:%d\" % (a,b))"
   ]
  },
  {
   "cell_type": "code",
   "execution_count": null,
   "metadata": {
    "collapsed": true
   },
   "outputs": [],
   "source": []
  }
 ],
 "metadata": {
  "kernelspec": {
   "display_name": "Python 3",
   "language": "python",
   "name": "python3"
  },
  "language_info": {
   "codemirror_mode": {
    "name": "ipython",
    "version": 3
   },
   "file_extension": ".py",
   "mimetype": "text/x-python",
   "name": "python",
   "nbconvert_exporter": "python",
   "pygments_lexer": "ipython3",
   "version": "3.5.0"
  }
 },
 "nbformat": 4,
 "nbformat_minor": 2
}
