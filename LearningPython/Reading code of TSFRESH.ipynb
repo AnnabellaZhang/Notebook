{
 "cells": [
  {
   "cell_type": "code",
   "execution_count": 1,
   "metadata": {
    "collapsed": true
   },
   "outputs": [],
   "source": [
    "import numpy as np"
   ]
  },
  {
   "cell_type": "code",
   "execution_count": 17,
   "metadata": {},
   "outputs": [
    {
     "name": "stdout",
     "output_type": "stream",
     "text": [
      "id:1:timetmp.size->(50,)  time.size->(100,)\n",
      "id:2:timetmp.size->(50,)  time.size->(150,)\n",
      "id:3:timetmp.size->(50,)  time.size->(200,)\n",
      "id:4:timetmp.size->(50,)  time.size->(250,)\n",
      "id:5:timetmp.size->(50,)  time.size->(300,)\n",
      "(300,)\n",
      "(300, 1)\n"
     ]
    }
   ],
   "source": [
    "time = np.arange(50)\n",
    "for idx in range(1, 6):\n",
    "    timetmp=np.arange(50)\n",
    "    #用于数组拼接。numpy用shape查看size\n",
    "    time=np.concatenate((time, timetmp), axis=0)\n",
    "    print \"id:\" + str(idx) + \":timetmp.size->\" + str(timetmp.shape) + \"  time.size->\" + str(time.shape)\n",
    "    \n",
    "print time.shape\n",
    "time.shape = (300,1)\n",
    "print time.shape"
   ]
  },
  {
   "cell_type": "code",
   "execution_count": null,
   "metadata": {
    "collapsed": true
   },
   "outputs": [],
   "source": []
  }
 ],
 "metadata": {
  "kernelspec": {
   "display_name": "Python 2",
   "language": "python",
   "name": "python2"
  },
  "language_info": {
   "codemirror_mode": {
    "name": "ipython",
    "version": 2
   },
   "file_extension": ".py",
   "mimetype": "text/x-python",
   "name": "python",
   "nbconvert_exporter": "python",
   "pygments_lexer": "ipython2",
   "version": "2.7.12"
  }
 },
 "nbformat": 4,
 "nbformat_minor": 2
}
