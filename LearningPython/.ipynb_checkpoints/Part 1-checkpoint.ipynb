{
 "cells": [
  {
   "cell_type": "markdown",
   "metadata": {},
   "source": [
    "# 1. 基本语法元素"
   ]
  },
  {
   "cell_type": "code",
   "execution_count": 3,
   "metadata": {},
   "outputs": [
    {
     "name": "stdout",
     "output_type": "stream",
     "text": [
      "显示合并\n",
      "隐式合并\n"
     ]
    }
   ],
   "source": [
    "#用\\实现显示合并\n",
    "print\\\n",
    "(\"显示合并\")\n",
    "\n",
    "#括号中存在隐式合并（?如何隐式）\n",
    "print(\"隐式合并\")"
   ]
  },
  {
   "cell_type": "code",
   "execution_count": 4,
   "metadata": {},
   "outputs": [
    {
     "name": "stdout",
     "output_type": "stream",
     "text": [
      "90796992\n",
      "<class 'float'>\n"
     ]
    }
   ],
   "source": [
    "#注释编码规范\n",
    "# -*- coding: utf-8 -*-\n",
    "\n",
    "## 特定标识符\n",
    "#- 标识符 _* ：只能模块内使用，不能用from方法导入\n",
    "#- 标识符 _ ：在Python交互模式下表示上一个表达式的结果，在非交互模式下无特殊意义，且未定义\n",
    "#- 标识符 __*__ ：系统定义的名称\n",
    "#- 标识符 __* ：类私有的名称\n",
    "\n",
    "#使用文档字符串\n",
    "\n",
    "#函数名全小写，单词间下划线\n",
    "#类名首字母大写，单词间不加下划线\n",
    "\n",
    "#对象的基本特征：id，type，value\n",
    "print(id(1.))\n",
    "print(type(1.))"
   ]
  },
  {
   "cell_type": "code",
   "execution_count": 6,
   "metadata": {},
   "outputs": [
    {
     "name": "stdout",
     "output_type": "stream",
     "text": [
      "<class 'list'>\n",
      "2\n"
     ]
    }
   ],
   "source": [
    "#无常(mutable)对象：值可变更 -> dictionary、list\n",
    "#有常(immutable)对象：值不可变更 -> numeric、string、truple\n",
    "a = [1,\"Hello\"]\n",
    "print(type(a))\n",
    "a[0] += 1\n",
    "print(a[0])"
   ]
  },
  {
   "cell_type": "code",
   "execution_count": 8,
   "metadata": {},
   "outputs": [
    {
     "name": "stdout",
     "output_type": "stream",
     "text": [
      "2\n",
      "False\n",
      "True\n",
      "False\n",
      "True\n",
      "False\n",
      "True\n",
      "a:2,b:1\n",
      "504387872\n"
     ]
    }
   ],
   "source": [
    "#量（variable）不是对象，是对象的引用，无型无款\n",
    "b = (1,\"Hello\")\n",
    "print(a)\n",
    "print(a is b)\n",
    "b = a\n",
    "print(a is b)\n",
    "c = \"Hello\"\n",
    "print(c is c+\"!\")\n",
    "a = 1\n",
    "b = 1\n",
    "print(a is b)\n",
    "a = []\n",
    "b = []\n",
    "print(a is b)\n",
    "\n",
    "\n",
    "#连续赋值\n",
    "a = b = 1\n",
    "print(a is b)\n",
    "\n",
    "#多变量赋值\n",
    "a = 1\n",
    "b = 2\n",
    "a, b = b, a\n",
    "print(\"a:%d,b:%d\" % (a,b))\n",
    "print(id(a))"
   ]
  },
  {
   "cell_type": "code",
   "execution_count": 2,
   "metadata": {},
   "outputs": [
    {
     "name": "stdout",
     "output_type": "stream",
     "text": [
      "491671904\n",
      "491671904\n",
      "True\n",
      "True\n"
     ]
    }
   ],
   "source": [
    "# 型式也是对象\n",
    "print(id(int))\n",
    "print(id(float))\n",
    "print(int is float)\n",
    "int = float\n",
    "print(int is float)"
   ]
  },
  {
   "cell_type": "code",
   "execution_count": 5,
   "metadata": {},
   "outputs": [
    {
     "name": "stdout",
     "output_type": "stream",
     "text": [
      "-80\n",
      "(2, 1)\n",
      "3\n"
     ]
    }
   ],
   "source": [
    "# 正负比乘除优先级高\n",
    "a = 2 * -3+-4\n",
    "a *= 2 ** 3\n",
    "print(a)\n",
    "\n",
    "# 实数表示存在1e-15以内的误差\n",
    "\n",
    "# 数值运算函数\n",
    "# 求商和余\n",
    "print(divmod(5,2))\n",
    "# 求幂取余 - 效率高\n",
    "print(pow(2,3,5))"
   ]
  },
  {
   "cell_type": "code",
   "execution_count": 6,
   "metadata": {
    "collapsed": true
   },
   "outputs": [],
   "source": [
    "import math\n",
    "import cmath"
   ]
  },
  {
   "cell_type": "code",
   "execution_count": 20,
   "metadata": {},
   "outputs": [
    {
     "name": "stdout",
     "output_type": "stream",
     "text": [
      "Give me your name:zrb\n",
      "zrb\n",
      "zrb\n",
      "name0\n",
      "name1\n",
      "name2\n",
      "name3\n",
      "name4\n"
     ]
    }
   ],
   "source": [
    "# python3.0之后，输出为函数形式print()，不再用命令形式\n",
    "name = input('Give me your name:')\n",
    "print(name)\n",
    "eval('print(name)')\n",
    "\n",
    "for i in range(5):\n",
    "    eval('print(\"name' + str(i) + '\")')"
   ]
  },
  {
   "cell_type": "code",
   "execution_count": 21,
   "metadata": {},
   "outputs": [
    {
     "data": {
      "text/plain": [
       "'a1'"
      ]
     },
     "execution_count": 21,
     "metadata": {},
     "output_type": "execute_result"
    }
   ],
   "source": [
    "\"a\"+str(1)"
   ]
  }
 ],
 "metadata": {
  "kernelspec": {
   "display_name": "Python 3",
   "language": "python",
   "name": "python3"
  },
  "language_info": {
   "codemirror_mode": {
    "name": "ipython",
    "version": 3
   },
   "file_extension": ".py",
   "mimetype": "text/x-python",
   "name": "python",
   "nbconvert_exporter": "python",
   "pygments_lexer": "ipython3",
   "version": "3.5.0"
  }
 },
 "nbformat": 4,
 "nbformat_minor": 2
}
