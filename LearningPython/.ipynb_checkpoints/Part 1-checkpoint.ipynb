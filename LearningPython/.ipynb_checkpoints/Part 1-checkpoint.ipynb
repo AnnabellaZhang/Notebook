{
 "cells": [
  {
   "cell_type": "markdown",
   "metadata": {},
   "source": [
    "# 1. 基本语法元素"
   ]
  },
  {
   "cell_type": "code",
   "execution_count": 6,
   "metadata": {},
   "outputs": [
    {
     "name": "stdout",
     "output_type": "stream",
     "text": [
      "显示合并\n",
      "隐式合并\n"
     ]
    }
   ],
   "source": [
    "#用\\实现显示合并\n",
    "print\\\n",
    "(\"显示合并\")\n",
    "\n",
    "#括号中存在隐式合并（?如何隐式）\n",
    "print(\"隐式合并\")"
   ]
  },
  {
   "cell_type": "code",
   "execution_count": 1,
   "metadata": {
    "collapsed": true
   },
   "outputs": [],
   "source": [
    "#注释编码规范\n",
    "# -*- coding: utf-8 -*-\n",
    "\n",
    "## 特定标识符\n",
    "#- 标识符 _* ：只能模块内使用，不能用from方法导入\n",
    "#- 标识符 _ ：在Python交互模式下表示上一个表达式的结果，在非交互模式下无特殊意义，且未定义\n",
    "#- 标识符 __*__ ：系统定义的名称\n",
    "#- 标识符 __* ：类私有的名称\n",
    "\n",
    "#使用文档字符串\n",
    "\n",
    "#函数名全小写，单词间下划线\n",
    "#类名首字母大写，单词间不加下划线\n",
    "\n",
    "#对象的基本特征：id，type，value\n"
   ]
  },
  {
   "cell_type": "code",
   "execution_count": 4,
   "metadata": {},
   "outputs": [
    {
     "data": {
      "text/plain": [
       "float"
      ]
     },
     "execution_count": 4,
     "metadata": {},
     "output_type": "execute_result"
    }
   ],
   "source": [
    "type(1.)"
   ]
  },
  {
   "cell_type": "code",
   "execution_count": null,
   "metadata": {
    "collapsed": true
   },
   "outputs": [],
   "source": []
  }
 ],
 "metadata": {
  "kernelspec": {
   "display_name": "Python 3",
   "language": "python",
   "name": "python3"
  },
  "language_info": {
   "codemirror_mode": {
    "name": "ipython",
    "version": 3
   },
   "file_extension": ".py",
   "mimetype": "text/x-python",
   "name": "python",
   "nbconvert_exporter": "python",
   "pygments_lexer": "ipython3",
   "version": "3.5.0"
  }
 },
 "nbformat": 4,
 "nbformat_minor": 2
}
