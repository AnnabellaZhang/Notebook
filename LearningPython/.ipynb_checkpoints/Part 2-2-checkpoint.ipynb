{
 "cells": [
  {
   "cell_type": "code",
   "execution_count": 6,
   "metadata": {},
   "outputs": [
    {
     "name": "stdout",
     "output_type": "stream",
     "text": [
      "True\n",
      "False\n",
      "True\n",
      "True\n"
     ]
    }
   ],
   "source": [
    "#比较操作\n",
    "x,y,z = 1,2,3\n",
    "print(x<y<z)\n",
    "print(x is y)\n",
    "print(x+y is z)\n",
    "print(x+y is 3)"
   ]
  },
  {
   "cell_type": "code",
   "execution_count": 14,
   "metadata": {},
   "outputs": [
    {
     "name": "stdout",
     "output_type": "stream",
     "text": [
      "Interger:3\n",
      "4\n",
      "False\n"
     ]
    }
   ],
   "source": [
    "#嵌套语句（注意eval的运用）\n",
    "value = eval(input(\"Interger:\"))\n",
    "if value % 2 == 0:\n",
    "    value /= 2\n",
    "else:\n",
    "    value +=1\n",
    "print(value)\n",
    "\n",
    "#条件表达式\n",
    "value = True if value < 4 else False\n",
    "print(value)"
   ]
  },
  {
   "cell_type": "code",
   "execution_count": null,
   "metadata": {
    "collapsed": true
   },
   "outputs": [],
   "source": []
  }
 ],
 "metadata": {
  "kernelspec": {
   "display_name": "Python 3",
   "language": "python",
   "name": "python3"
  },
  "language_info": {
   "codemirror_mode": {
    "name": "ipython",
    "version": 3
   },
   "file_extension": ".py",
   "mimetype": "text/x-python",
   "name": "python",
   "nbconvert_exporter": "python",
   "pygments_lexer": "ipython3",
   "version": "3.5.0"
  }
 },
 "nbformat": 4,
 "nbformat_minor": 2
}
