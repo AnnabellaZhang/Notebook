{
 "cells": [
  {
   "cell_type": "code",
   "execution_count": 9,
   "metadata": {},
   "outputs": [
    {
     "name": "stdout",
     "output_type": "stream",
     "text": [
      "False\n",
      "False\n",
      "True\n"
     ]
    }
   ],
   "source": [
    "#布尔转换\n",
    "print(bool(()))\n",
    "print(bool(None))\n",
    "x = False\n",
    "print(not x)"
   ]
  },
  {
   "cell_type": "code",
   "execution_count": 9,
   "metadata": {},
   "outputs": [
    {
     "name": "stdout",
     "output_type": "stream",
     "text": [
      "Year:2013\n",
      "<class 'str'>\n",
      "<class 'int'>\n",
      "False\n"
     ]
    }
   ],
   "source": [
    "year = input(\"Year:\")\n",
    "print(type(year))\n",
    "year = int(year)\n",
    "print(type(year))\n",
    "print(year % 4 == 0 and year % 100 !=0 or year % 400 == 0)"
   ]
  },
  {
   "cell_type": "code",
   "execution_count": 10,
   "metadata": {},
   "outputs": [
    {
     "name": "stdout",
     "output_type": "stream",
     "text": [
      "True\n",
      "False\n",
      "True\n",
      "True\n"
     ]
    }
   ],
   "source": [
    "#比较操作\n",
    "x,y,z = 1,2,3\n",
    "print(x<y<z)\n",
    "print(x is y)\n",
    "print(x+y is z)\n",
    "print(x+y is 3)"
   ]
  },
  {
   "cell_type": "code",
   "execution_count": 11,
   "metadata": {},
   "outputs": [
    {
     "name": "stdout",
     "output_type": "stream",
     "text": [
      "Interger:3\n",
      "4\n",
      "False\n"
     ]
    }
   ],
   "source": [
    "#嵌套语句（注意eval的运用）\n",
    "value = eval(input(\"Interger:\"))\n",
    "if value % 2 == 0:\n",
    "    value /= 2\n",
    "else:\n",
    "    value +=1\n",
    "print(value)\n",
    "\n",
    "#条件表达式\n",
    "value = True if value < 4 else False\n",
    "print(value)"
   ]
  },
  {
   "cell_type": "code",
   "execution_count": null,
   "metadata": {
    "collapsed": true
   },
   "outputs": [],
   "source": []
  }
 ],
 "metadata": {
  "kernelspec": {
   "display_name": "Python 3",
   "language": "python",
   "name": "python3"
  },
  "language_info": {
   "codemirror_mode": {
    "name": "ipython",
    "version": 3
   },
   "file_extension": ".py",
   "mimetype": "text/x-python",
   "name": "python",
   "nbconvert_exporter": "python",
   "pygments_lexer": "ipython3",
   "version": "3.5.2"
  }
 },
 "nbformat": 4,
 "nbformat_minor": 2
}
