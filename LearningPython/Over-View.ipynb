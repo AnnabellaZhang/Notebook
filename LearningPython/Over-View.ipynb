{
 "cells": [
  {
   "cell_type": "markdown",
   "metadata": {},
   "source": [
    "# 学习环境"
   ]
  },
  {
   "cell_type": "markdown",
   "metadata": {},
   "source": [
    "（终于在三个平台都装好啦）\n",
    "\n",
    "## Windows\n",
    "Win 10\n",
    "- python2.7\n",
    "- python3.5\n",
    "\n",
    "## Linux\n",
    "ubuntu 16.10\n",
    "- python 2.7\n",
    "- python 3.5\n",
    "\n",
    "## OSX\n",
    "10.10.5\n",
    "- python 2.7.13\n",
    "- python 3.5.0"
   ]
  }
 ],
 "metadata": {
  "kernelspec": {
   "display_name": "Python 2",
   "language": "python",
   "name": "python2"
  },
  "language_info": {
   "codemirror_mode": {
    "name": "ipython",
    "version": 3
   },
   "file_extension": ".py",
   "mimetype": "text/x-python",
   "name": "python",
   "nbconvert_exporter": "python",
   "pygments_lexer": "ipython3",
   "version": "3.5.0"
  }
 },
 "nbformat": 4,
 "nbformat_minor": 2
}
