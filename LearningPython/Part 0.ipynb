{
 "cells": [
  {
   "cell_type": "markdown",
   "metadata": {},
   "source": [
    "# 0. 引言"
   ]
  },
  {
   "cell_type": "code",
   "execution_count": 12,
   "metadata": {
    "scrolled": true
   },
   "outputs": [
    {
     "name": "stdout",
     "output_type": "stream",
     "text": [
      "5.666666666666667\n",
      "5\n",
      "2\n",
      "256\n"
     ]
    }
   ],
   "source": [
    "#除法\n",
    "#普通除法\n",
    "print(17/3)\n",
    "#整数除法\n",
    "print(17//3)\n",
    "\n",
    "#求模\n",
    "print(17%3)\n",
    "\n",
    "#求幂\n",
    "print(2**8)"
   ]
  },
  {
   "cell_type": "code",
   "execution_count": 13,
   "metadata": {},
   "outputs": [
    {
     "name": "stdout",
     "output_type": "stream",
     "text": [
      "what is your name?\n",
      "Python\n",
      "Your name is: Python\n"
     ]
    }
   ],
   "source": [
    "#IO\n",
    "#输入与赋值\n",
    "name = input('what is your name?\\n')\n",
    "print('Your name is: %s' % name)"
   ]
  },
  {
   "cell_type": "code",
   "execution_count": 15,
   "metadata": {},
   "outputs": [
    {
     "name": "stdout",
     "output_type": "stream",
     "text": [
      "5 5 5 "
     ]
    }
   ],
   "source": [
    "#输出以空格分隔\n",
    "a = 5\n",
    "for i in range(3):\n",
    "    print(a,end = ' ')"
   ]
  },
  {
   "cell_type": "code",
   "execution_count": 23,
   "metadata": {},
   "outputs": [
    {
     "name": "stdout",
     "output_type": "stream",
     "text": [
      "['Banana', 'Apple', 'Lime']\n",
      "['BANANA', 'APPLE', 'LIME']\n",
      "[(0, 'Banana'), (1, 'Apple'), (2, 'Lime')]\n",
      "Banana\n"
     ]
    }
   ],
   "source": [
    "#列表\n",
    "fruits = ['Banana','Apple','Lime']\n",
    "print(fruits)\n",
    "\n",
    "#转换为大写\n",
    "upp_fruits = [fruit.upper() for fruit in fruits]\n",
    "print(upp_fruits)\n",
    "\n",
    "#枚举\n",
    "enum_fruit = list(enumerate(fruits))\n",
    "print(enum_fruit)\n",
    "print(enum_fruit[0][1])"
   ]
  }
 ],
 "metadata": {
  "kernelspec": {
   "display_name": "Python 3",
   "language": "python",
   "name": "python3"
  },
  "language_info": {
   "codemirror_mode": {
    "name": "ipython",
    "version": 3
   },
   "file_extension": ".py",
   "mimetype": "text/x-python",
   "name": "python",
   "nbconvert_exporter": "python",
   "pygments_lexer": "ipython3",
   "version": "3.5.2"
  }
 },
 "nbformat": 4,
 "nbformat_minor": 2
}
