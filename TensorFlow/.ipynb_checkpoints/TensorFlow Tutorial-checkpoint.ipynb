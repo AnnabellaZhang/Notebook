{
 "cells": [
  {
   "cell_type": "markdown",
   "metadata": {},
   "source": [
    "# Getting Started With TensorFlow\n",
    "[教程地址](https://www.tensorflow.org/get_started/get_started)"
   ]
  },
  {
   "cell_type": "markdown",
   "metadata": {},
   "source": [
    "## Tensors\n",
    "TensorFlow中的数据核心单元，tensor的rank指的是tensor的维度。"
   ]
  },
  {
   "cell_type": "markdown",
   "metadata": {},
   "source": [
    "### TensorFlow 核心教程\n",
    "#### 导入TensorFlow\n",
    "```python\n",
    "import tensorflow as tf\n",
    "```\n",
    "#### 计算曲线图 Computional Graph\n",
    "将TensorFlow的一系列操作组合成由nodes构成的一副图\n",
    "```python\n",
    "node1 = tf.constant(3.0, tf.float32)\n",
    "node2 = tf.constant(4.0) # also tf.float32 implicitly\n",
    "```\n",
    "此时两个node都是**Tensor**，但是值无法直接被print出来。\n",
    "Computational Graph需要用session来run出来\n",
    "```python\n",
    "sess = tf.Session()\n",
    "print(sess.run([node1, node2]))\n",
    "```\n",
    "把Tensor和operation结合起来可以完成更复杂的计算，例如与add结合。\n",
    "```python\n",
    "node3 = tf.add(node1, node2)\n",
    "print(\"node3: \", node3)\n",
    "print(\"sess.run(node3): \",sess.run(node3))\n",
    "```\n",
    "TensorFlow用**TensorBoard**展示Conputional Graph\n",
    "\n",
    "为了使得graph可以接受外来输入，需要用**placeholder**\n",
    "```python\n",
    "a = tf.placeholder(tf.float32)\n",
    "b = tf.placeholder(tf.float32)\n",
    "adder_node = a + b  # + provides a shortcut for tf.add(a, b)\n",
    "add_and_triple = adder_node * 3.\n",
    "print(sess.run(add_and_triple, {a: 3, b:4.5}))\n",
    "```\n",
    "\n",
    "在ML中需要模型接受任意输入，需要用**variable**将可以被训练的参数加到graph里\n",
    "```python\n",
    "W = tf.Variable([.3], tf.float32)\n",
    "b = tf.Variable([-.3], tf.float32)\n",
    "x = tf.placeholder(tf.float32)\n",
    "linear_model = W * x + b\n",
    "```\n",
    "\n",
    "然而，**variable**在调用的时候没有初始化，需要人为初始化，并在sess.run时初始化完成。\n",
    "```python\n",
    "init = tf.global_variables_initializer()\n",
    "sess.run(init)\n",
    "print(sess.run(linear_model, {x:[1,2,3,4]}))\n",
    "```\n",
    "\n",
    "在得到model以后，引入loss评价model好坏。（这里用了**tf.reduce_sum**）\n",
    "```python\n",
    "y = tf.placeholder(tf.float32)\n",
    "squared_deltas = tf.square(linear_model - y)\n",
    "loss = tf.reduce_sum(squared_deltas)\n",
    "print(sess.run(loss, {x:[1,2,3,4], y:[0,-1,-2,-3]}))\n",
    "```"
   ]
  },
  {
   "cell_type": "code",
   "execution_count": null,
   "metadata": {
    "collapsed": true
   },
   "outputs": [],
   "source": []
  }
 ],
 "metadata": {
  "kernelspec": {
   "display_name": "Python 2",
   "language": "python",
   "name": "python2"
  },
  "language_info": {
   "codemirror_mode": {
    "name": "ipython",
    "version": 2
   },
   "file_extension": ".py",
   "mimetype": "text/x-python",
   "name": "python",
   "nbconvert_exporter": "python",
   "pygments_lexer": "ipython2",
   "version": "2.7.13"
  }
 },
 "nbformat": 4,
 "nbformat_minor": 2
}
